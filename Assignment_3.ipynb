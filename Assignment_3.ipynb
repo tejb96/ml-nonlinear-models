{
  "cells": [
    {
      "cell_type": "markdown",
      "metadata": {
        "id": "view-in-github",
        "colab_type": "text"
      },
      "source": [
        "<a href=\"https://colab.research.google.com/github/tejb96/ml-nonlinear-models/blob/main/Assignment_3.ipynb\" target=\"_parent\"><img src=\"https://colab.research.google.com/assets/colab-badge.svg\" alt=\"Open In Colab\"/></a>"
      ]
    },
    {
      "cell_type": "markdown",
      "id": "92778525",
      "metadata": {
        "id": "92778525"
      },
      "source": [
        "# Assignment 3: Non-Linear Models and Validation Metrics (37 total marks)\n",
        "### Due: October 24 at 11:59pm\n",
        "\n",
        "### Name: Tejpreet Bal"
      ]
    },
    {
      "cell_type": "markdown",
      "id": "ce31b39a",
      "metadata": {
        "id": "ce31b39a"
      },
      "source": [
        "### In this assignment, you will need to write code that uses non-linear models to perform classification and regression tasks. You will also be asked to describe the process by which you came up with the code. More details can be found below. Please cite any websites or AI tools that you used to help you with this assignment."
      ]
    },
    {
      "cell_type": "markdown",
      "id": "cf275ca7",
      "metadata": {
        "id": "cf275ca7"
      },
      "source": [
        "### Import Libraries"
      ]
    },
    {
      "cell_type": "code",
      "execution_count": null,
      "id": "2b67a661",
      "metadata": {
        "id": "2b67a661"
      },
      "outputs": [],
      "source": [
        "import numpy as np\n",
        "import pandas as pd\n",
        "import matplotlib.pyplot as plt\n",
        "import seaborn as sns"
      ]
    },
    {
      "cell_type": "markdown",
      "id": "5ee2d2c3",
      "metadata": {
        "id": "5ee2d2c3"
      },
      "source": [
        "## Part 1: Regression (14.5 marks)\n",
        "\n",
        "For this section, we will be continuing with the concrete example from yellowbrick. You will need to compare these results to the results from the previous assignment. Please use the results from the solution if you were unable to complete Assignment 2"
      ]
    },
    {
      "cell_type": "markdown",
      "id": "8219f163",
      "metadata": {
        "id": "8219f163"
      },
      "source": [
        "### Step 1: Data Input (0.5 marks)\n",
        "\n",
        "The data used for this task can be downloaded using the yellowbrick library:\n",
        "https://www.scikit-yb.org/en/latest/api/datasets/concrete.html\n",
        "\n",
        "Use the yellowbrick function `load_concrete()` to load the concrete dataset into the feature matrix `X` and target vector `y`."
      ]
    },
    {
      "cell_type": "code",
      "execution_count": null,
      "id": "2af8bd32",
      "metadata": {
        "id": "2af8bd32"
      },
      "outputs": [],
      "source": [
        "# TO DO: Import concrete dataset from yellowbrick library\n",
        "from yellowbrick.datasets import load_concrete\n",
        "X, y = load_concrete()\n"
      ]
    },
    {
      "cell_type": "markdown",
      "id": "42fea4cc",
      "metadata": {
        "id": "42fea4cc"
      },
      "source": [
        "### Step 2: Data Processing (0 marks)\n",
        "\n",
        "Data processing was completed in the previous assignment. No need to repeat here."
      ]
    },
    {
      "cell_type": "markdown",
      "id": "2a245d00",
      "metadata": {
        "id": "2a245d00"
      },
      "source": [
        "### Step 3: Implement Machine Learning Model\n",
        "\n",
        "1. Import the Decision Tree, Random Forest and Gradient Boosting Machines regression models from sklearn\n",
        "2. Instantiate the three models with `max_depth = 5`. Are there any other parameters that you will need to set?\n",
        "3. Implement each machine learning model with `X` and `y`"
      ]
    },
    {
      "cell_type": "markdown",
      "id": "3f994e31",
      "metadata": {
        "id": "3f994e31"
      },
      "source": [
        "### Step 4: Validate Model\n",
        "\n",
        "Calculate the average training and validation accuracy using mean squared error with cross-validation. To do this, you will need to set `scoring='neg_mean_squared_error'` in your `cross_validate` function and negate the results (multiply by -1)"
      ]
    },
    {
      "cell_type": "markdown",
      "id": "5fc3f7a8",
      "metadata": {
        "id": "5fc3f7a8"
      },
      "source": [
        "### Step 5: Visualize Results (4 marks)\n",
        "\n",
        "1. Create a pandas DataFrame `results` with columns: Training accuracy and Validation accuracy, and index: DT, RF and GB\n",
        "2. Add the accuracy results to the `results` DataFrame\n",
        "3. Print `results`"
      ]
    },
    {
      "cell_type": "code",
      "execution_count": null,
      "id": "fdc93a78",
      "metadata": {
        "id": "fdc93a78",
        "outputId": "0134a088-943d-49c8-f6a4-8b8cb9a1c4d2"
      },
      "outputs": [
        {
          "data": {
            "text/html": [
              "<div>\n",
              "<style scoped>\n",
              "    .dataframe tbody tr th:only-of-type {\n",
              "        vertical-align: middle;\n",
              "    }\n",
              "\n",
              "    .dataframe tbody tr th {\n",
              "        vertical-align: top;\n",
              "    }\n",
              "\n",
              "    .dataframe thead th {\n",
              "        text-align: right;\n",
              "    }\n",
              "</style>\n",
              "<table border=\"1\" class=\"dataframe\">\n",
              "  <thead>\n",
              "    <tr style=\"text-align: right;\">\n",
              "      <th></th>\n",
              "      <th>training_score</th>\n",
              "      <th>validation_score</th>\n",
              "    </tr>\n",
              "  </thead>\n",
              "  <tbody>\n",
              "    <tr>\n",
              "      <th>DecisionTreeRegressor(max_depth=5, random_state=0)</th>\n",
              "      <td>47.918561</td>\n",
              "      <td>163.087775</td>\n",
              "    </tr>\n",
              "    <tr>\n",
              "      <th>RandomForestRegressor(max_depth=5, max_features='log2', n_estimators=50,\\n                      random_state=0)</th>\n",
              "      <td>37.486629</td>\n",
              "      <td>133.418746</td>\n",
              "    </tr>\n",
              "    <tr>\n",
              "      <th>GradientBoostingRegressor(learning_rate=0.01, max_depth=5, n_estimators=50,\\n                          random_state=0)</th>\n",
              "      <td>126.704953</td>\n",
              "      <td>195.065275</td>\n",
              "    </tr>\n",
              "  </tbody>\n",
              "</table>\n",
              "</div>"
            ],
            "text/plain": [
              "                                                    training_score  \\\n",
              "DecisionTreeRegressor(max_depth=5, random_state=0)       47.918561   \n",
              "RandomForestRegressor(max_depth=5, max_features...       37.486629   \n",
              "GradientBoostingRegressor(learning_rate=0.01, m...      126.704953   \n",
              "\n",
              "                                                    validation_score  \n",
              "DecisionTreeRegressor(max_depth=5, random_state=0)        163.087775  \n",
              "RandomForestRegressor(max_depth=5, max_features...        133.418746  \n",
              "GradientBoostingRegressor(learning_rate=0.01, m...        195.065275  "
            ]
          },
          "execution_count": 4,
          "metadata": {},
          "output_type": "execute_result"
        }
      ],
      "source": [
        "# TO DO: ADD YOUR CODE HERE FOR STEPS 3-5\n",
        "# Note: for any random state parameters, you can use random_state = 0\n",
        "# HINT: USING A LOOP TO STORE THE DATA IN YOUR RESULTS DATAFRAME WILL BE MORE EFFICIENT\n",
        "from sklearn.tree import DecisionTreeRegressor\n",
        "from sklearn.ensemble import RandomForestRegressor\n",
        "from sklearn.ensemble import GradientBoostingRegressor\n",
        "from sklearn.model_selection import cross_validate\n",
        "\n",
        "DT = DecisionTreeRegressor(max_depth=5, random_state=0)\n",
        "DT.fit(X, y)\n",
        "\n",
        "RF = RandomForestRegressor(max_depth=5,max_features='log2',n_estimators=50,random_state=0)\n",
        "RF.fit(X, y)\n",
        "\n",
        "GB = GradientBoostingRegressor(max_depth=5,n_estimators=50,learning_rate=0.01,random_state=0)\n",
        "GB.fit(X, y)\n",
        "\n",
        "result={'training_score':{},'validation_score':{}}\n",
        "datasets=[ (X, y, DT),(X, y, RF), (X, y, GB)]\n",
        "\n",
        "for X_data, y_data, model in datasets:\n",
        "    scores = cross_validate(model, X_data, y_data, cv=5,\n",
        "                        scoring='neg_mean_squared_error',\n",
        "                       return_train_score=True)\n",
        "    train_score=-scores['train_score'].mean()\n",
        "    test_score=-scores['test_score'].mean()\n",
        "    result['training_score'][str(model)]=train_score\n",
        "    result['validation_score'][str(model)]=test_score\n",
        "\n",
        "results=pd.DataFrame(data=result)\n",
        "results.head()"
      ]
    },
    {
      "cell_type": "markdown",
      "id": "31715a9d",
      "metadata": {
        "id": "31715a9d"
      },
      "source": [
        "Repeat the step above to print the R2 score instead of the mean-squared error. For this case, you can use `scoring='r2'`"
      ]
    },
    {
      "cell_type": "code",
      "execution_count": null,
      "id": "83539f47",
      "metadata": {
        "id": "83539f47",
        "outputId": "44db35ed-5448-4754-df88-d27125869654"
      },
      "outputs": [
        {
          "data": {
            "text/html": [
              "<div>\n",
              "<style scoped>\n",
              "    .dataframe tbody tr th:only-of-type {\n",
              "        vertical-align: middle;\n",
              "    }\n",
              "\n",
              "    .dataframe tbody tr th {\n",
              "        vertical-align: top;\n",
              "    }\n",
              "\n",
              "    .dataframe thead th {\n",
              "        text-align: right;\n",
              "    }\n",
              "</style>\n",
              "<table border=\"1\" class=\"dataframe\">\n",
              "  <thead>\n",
              "    <tr style=\"text-align: right;\">\n",
              "      <th></th>\n",
              "      <th>training_score</th>\n",
              "      <th>validation_score</th>\n",
              "    </tr>\n",
              "  </thead>\n",
              "  <tbody>\n",
              "    <tr>\n",
              "      <th>DecisionTreeRegressor(max_depth=5, random_state=0)</th>\n",
              "      <td>0.822887</td>\n",
              "      <td>0.176210</td>\n",
              "    </tr>\n",
              "    <tr>\n",
              "      <th>RandomForestRegressor(max_depth=5, max_features='log2', n_estimators=50,\\n                      random_state=0)</th>\n",
              "      <td>0.861670</td>\n",
              "      <td>0.316878</td>\n",
              "    </tr>\n",
              "    <tr>\n",
              "      <th>GradientBoostingRegressor(learning_rate=0.01, max_depth=5, n_estimators=50,\\n                          random_state=0)</th>\n",
              "      <td>0.539213</td>\n",
              "      <td>0.136018</td>\n",
              "    </tr>\n",
              "  </tbody>\n",
              "</table>\n",
              "</div>"
            ],
            "text/plain": [
              "                                                    training_score  \\\n",
              "DecisionTreeRegressor(max_depth=5, random_state=0)        0.822887   \n",
              "RandomForestRegressor(max_depth=5, max_features...        0.861670   \n",
              "GradientBoostingRegressor(learning_rate=0.01, m...        0.539213   \n",
              "\n",
              "                                                    validation_score  \n",
              "DecisionTreeRegressor(max_depth=5, random_state=0)          0.176210  \n",
              "RandomForestRegressor(max_depth=5, max_features...          0.316878  \n",
              "GradientBoostingRegressor(learning_rate=0.01, m...          0.136018  "
            ]
          },
          "execution_count": 5,
          "metadata": {},
          "output_type": "execute_result"
        }
      ],
      "source": [
        "# TO DO: ADD YOUR CODE HERE\n",
        "result={'training_score':{},'validation_score':{}}\n",
        "datasets=[ (X, y, DT),(X, y, RF), (X, y, GB)]\n",
        "\n",
        "for X_data, y_data, model in datasets:\n",
        "    scores = cross_validate(model, X_data, y_data, cv=5,\n",
        "                        scoring='r2',\n",
        "                       return_train_score=True)\n",
        "    train_score=scores['train_score'].mean()\n",
        "    test_score=scores['test_score'].mean()\n",
        "    result['training_score'][str(model)]=train_score\n",
        "    result['validation_score'][str(model)]=test_score\n",
        "\n",
        "results=pd.DataFrame(data=result)\n",
        "results.head()"
      ]
    },
    {
      "cell_type": "markdown",
      "id": "a5257a98",
      "metadata": {
        "id": "a5257a98"
      },
      "source": [
        "### Questions (6 marks)\n",
        "1. How do these results compare to the results using a linear model in the previous assignment? Use values.\n",
        "1. Out of the models you tested, which model would you select for this dataset and why?\n",
        "1. If you wanted to increase the accuracy of the tree-based models, what would you do? Provide two suggestions.\n",
        "\n",
        "*ANSWER HERE*"
      ]
    },
    {
      "cell_type": "markdown",
      "id": "521237c2",
      "metadata": {
        "id": "521237c2"
      },
      "source": [
        "1. The mean squared error (MSE) for the training score for DT was the lowest at 47.918561, for RF it was 37.486629, and for GB it was approximately 126.704953. MSE for validation score was much greater at 163.087775, 133.418746, and 195.065275 for DT, RF, and GB respectively. For the linear model the MSE was 111, and 96 for training and validation. The difference between training and validation scores for the models in this assignment for both MSE and r2 seem to suggest that these models could be overfitting.  \n",
        "\n",
        "2. I would select the linear regression model from the last assignment since it produced much better results.\n",
        "\n",
        "3. The accuracy of the tree-based models can be improved by adjusting the parameters associated with the model to prevent overfitting. For example, for the DT model max_depth,max_leaf_nodes, or min_samples_leaf can be adjusted. For RF and GB models, max_depth, and n_estimators can be adjusted.\n"
      ]
    },
    {
      "cell_type": "markdown",
      "id": "37b238f4",
      "metadata": {
        "id": "37b238f4"
      },
      "source": [
        "### Process Description (4 marks)\n",
        "Please describe the process you used to create your code. Cite any websites or generative AI tools used. You can use the following questions as guidance:\n",
        "1. Where did you source your code?\n",
        "1. In what order did you complete the steps?\n",
        "1. If you used generative AI, what prompts did you use? Did you need to modify the code at all? Why or why not?\n",
        "1. Did you have any challenges? If yes, what were they? If not, what helped you to be successful?"
      ]
    },
    {
      "cell_type": "markdown",
      "id": "93097bfe",
      "metadata": {
        "id": "93097bfe"
      },
      "source": [
        "*DESCRIBE YOUR PROCESS HERE*\n",
        "\n",
        "1. I used the example codes provided for decisontrees on D2L.\n",
        "2. I completed the steps in order.  \n",
        "3. I asked AI how to reduce overfitting for the decision tree models and it gave me a bunch of parameters that I could potentially adjust. I did end up modifying the code just to see if I can get better results but wasn't able to.\n",
        "4. The instructions provided in the steps were helpful. For example in step 4, it specified to use the cross_val_score function with score=neg_mean_squared_error."
      ]
    },
    {
      "cell_type": "markdown",
      "id": "f7c6de86",
      "metadata": {
        "id": "f7c6de86"
      },
      "source": [
        "## Part 2: Classification (17.5 marks)\n",
        "\n",
        "You have been asked to develop code that can help the user classify different wine samples. Following the machine learning workflow described in class, write the relevant code in each of the steps below:"
      ]
    },
    {
      "cell_type": "markdown",
      "id": "5f9d33a8",
      "metadata": {
        "id": "5f9d33a8"
      },
      "source": [
        "### Step 1: Data Input (2 marks)\n",
        "\n",
        "The data used for this task can be downloaded from UCI: https://archive.ics.uci.edu/dataset/109/wine\n",
        "\n",
        "Use the pandas library to load the dataset. You must define the column headers if they are not included in the dataset\n",
        "\n",
        "You will need to split the dataset into feature matrix `X` and target vector `y`. Which column represents the target vector?\n",
        "\n",
        "Print the size and type of `X` and `y`"
      ]
    },
    {
      "cell_type": "code",
      "execution_count": null,
      "id": "33583c67",
      "metadata": {
        "id": "33583c67",
        "outputId": "1f26ecaf-7a2e-43bb-824d-6ffe6eeee46f"
      },
      "outputs": [
        {
          "name": "stdout",
          "output_type": "stream",
          "text": [
            "X size = 2314 y size=  178 X types:  <class 'pandas.core.frame.DataFrame'> y types:  <class 'pandas.core.series.Series'> int64\n"
          ]
        }
      ],
      "source": [
        "# TO DO: Import wine dataset\n",
        "from ucimlrepo import fetch_ucirepo\n",
        "\n",
        "# fetch dataset\n",
        "wine = fetch_ucirepo(id=109)\n",
        "\n",
        "# data (as pandas dataframes)\n",
        "X = wine.data.features\n",
        "y = wine.data.targets\n",
        "y = y['class']\n",
        "# # metadata\n",
        "# print(wine.metadata)\n",
        "\n",
        "# # variable information\n",
        "# print(wine.variables)\n",
        "\n",
        "print(\"X size =\",X.size, \"y size= \", y.size, \"X types: \", type(X), \"y types: \", type(y),y.dtypes)\n"
      ]
    },
    {
      "cell_type": "markdown",
      "id": "156db208",
      "metadata": {
        "id": "156db208"
      },
      "source": [
        "### Step 2: Data Processing (1.5 marks)"
      ]
    },
    {
      "cell_type": "markdown",
      "id": "a28af110",
      "metadata": {
        "id": "a28af110"
      },
      "source": [
        "Print the first five rows of the dataset to inspect:"
      ]
    },
    {
      "cell_type": "code",
      "execution_count": null,
      "id": "ea266921",
      "metadata": {
        "id": "ea266921",
        "outputId": "6aeb5707-efae-459d-e731-10d4dff23791"
      },
      "outputs": [
        {
          "data": {
            "text/html": [
              "<div>\n",
              "<style scoped>\n",
              "    .dataframe tbody tr th:only-of-type {\n",
              "        vertical-align: middle;\n",
              "    }\n",
              "\n",
              "    .dataframe tbody tr th {\n",
              "        vertical-align: top;\n",
              "    }\n",
              "\n",
              "    .dataframe thead th {\n",
              "        text-align: right;\n",
              "    }\n",
              "</style>\n",
              "<table border=\"1\" class=\"dataframe\">\n",
              "  <thead>\n",
              "    <tr style=\"text-align: right;\">\n",
              "      <th></th>\n",
              "      <th>Alcohol</th>\n",
              "      <th>Malicacid</th>\n",
              "      <th>Ash</th>\n",
              "      <th>Alcalinity_of_ash</th>\n",
              "      <th>Magnesium</th>\n",
              "      <th>Total_phenols</th>\n",
              "      <th>Flavanoids</th>\n",
              "      <th>Nonflavanoid_phenols</th>\n",
              "      <th>Proanthocyanins</th>\n",
              "      <th>Color_intensity</th>\n",
              "      <th>Hue</th>\n",
              "      <th>0D280_0D315_of_diluted_wines</th>\n",
              "      <th>Proline</th>\n",
              "    </tr>\n",
              "  </thead>\n",
              "  <tbody>\n",
              "    <tr>\n",
              "      <th>0</th>\n",
              "      <td>14.23</td>\n",
              "      <td>1.71</td>\n",
              "      <td>2.43</td>\n",
              "      <td>15.6</td>\n",
              "      <td>127</td>\n",
              "      <td>2.80</td>\n",
              "      <td>3.06</td>\n",
              "      <td>0.28</td>\n",
              "      <td>2.29</td>\n",
              "      <td>5.64</td>\n",
              "      <td>1.04</td>\n",
              "      <td>3.92</td>\n",
              "      <td>1065</td>\n",
              "    </tr>\n",
              "    <tr>\n",
              "      <th>1</th>\n",
              "      <td>13.20</td>\n",
              "      <td>1.78</td>\n",
              "      <td>2.14</td>\n",
              "      <td>11.2</td>\n",
              "      <td>100</td>\n",
              "      <td>2.65</td>\n",
              "      <td>2.76</td>\n",
              "      <td>0.26</td>\n",
              "      <td>1.28</td>\n",
              "      <td>4.38</td>\n",
              "      <td>1.05</td>\n",
              "      <td>3.40</td>\n",
              "      <td>1050</td>\n",
              "    </tr>\n",
              "    <tr>\n",
              "      <th>2</th>\n",
              "      <td>13.16</td>\n",
              "      <td>2.36</td>\n",
              "      <td>2.67</td>\n",
              "      <td>18.6</td>\n",
              "      <td>101</td>\n",
              "      <td>2.80</td>\n",
              "      <td>3.24</td>\n",
              "      <td>0.30</td>\n",
              "      <td>2.81</td>\n",
              "      <td>5.68</td>\n",
              "      <td>1.03</td>\n",
              "      <td>3.17</td>\n",
              "      <td>1185</td>\n",
              "    </tr>\n",
              "    <tr>\n",
              "      <th>3</th>\n",
              "      <td>14.37</td>\n",
              "      <td>1.95</td>\n",
              "      <td>2.50</td>\n",
              "      <td>16.8</td>\n",
              "      <td>113</td>\n",
              "      <td>3.85</td>\n",
              "      <td>3.49</td>\n",
              "      <td>0.24</td>\n",
              "      <td>2.18</td>\n",
              "      <td>7.80</td>\n",
              "      <td>0.86</td>\n",
              "      <td>3.45</td>\n",
              "      <td>1480</td>\n",
              "    </tr>\n",
              "    <tr>\n",
              "      <th>4</th>\n",
              "      <td>13.24</td>\n",
              "      <td>2.59</td>\n",
              "      <td>2.87</td>\n",
              "      <td>21.0</td>\n",
              "      <td>118</td>\n",
              "      <td>2.80</td>\n",
              "      <td>2.69</td>\n",
              "      <td>0.39</td>\n",
              "      <td>1.82</td>\n",
              "      <td>4.32</td>\n",
              "      <td>1.04</td>\n",
              "      <td>2.93</td>\n",
              "      <td>735</td>\n",
              "    </tr>\n",
              "  </tbody>\n",
              "</table>\n",
              "</div>"
            ],
            "text/plain": [
              "   Alcohol  Malicacid   Ash  Alcalinity_of_ash  Magnesium  Total_phenols  \\\n",
              "0    14.23       1.71  2.43               15.6        127           2.80   \n",
              "1    13.20       1.78  2.14               11.2        100           2.65   \n",
              "2    13.16       2.36  2.67               18.6        101           2.80   \n",
              "3    14.37       1.95  2.50               16.8        113           3.85   \n",
              "4    13.24       2.59  2.87               21.0        118           2.80   \n",
              "\n",
              "   Flavanoids  Nonflavanoid_phenols  Proanthocyanins  Color_intensity   Hue  \\\n",
              "0        3.06                  0.28             2.29             5.64  1.04   \n",
              "1        2.76                  0.26             1.28             4.38  1.05   \n",
              "2        3.24                  0.30             2.81             5.68  1.03   \n",
              "3        3.49                  0.24             2.18             7.80  0.86   \n",
              "4        2.69                  0.39             1.82             4.32  1.04   \n",
              "\n",
              "   0D280_0D315_of_diluted_wines  Proline  \n",
              "0                          3.92     1065  \n",
              "1                          3.40     1050  \n",
              "2                          3.17     1185  \n",
              "3                          3.45     1480  \n",
              "4                          2.93      735  "
            ]
          },
          "execution_count": 7,
          "metadata": {},
          "output_type": "execute_result"
        }
      ],
      "source": [
        "# TO DO: ADD YOUR CODE HERE\n",
        "X.head()\n"
      ]
    },
    {
      "cell_type": "markdown",
      "id": "834fc8fe",
      "metadata": {
        "id": "834fc8fe"
      },
      "source": [
        "Check to see if there are any missing values in the dataset. If necessary, select an appropriate method to fill-in the missing values"
      ]
    },
    {
      "cell_type": "code",
      "execution_count": null,
      "id": "97c6e9dc",
      "metadata": {
        "id": "97c6e9dc",
        "outputId": "31823f16-b526-428c-b031-612ab5d69aa0"
      },
      "outputs": [
        {
          "name": "stdout",
          "output_type": "stream",
          "text": [
            "Alcohol                         0\n",
            "Malicacid                       0\n",
            "Ash                             0\n",
            "Alcalinity_of_ash               0\n",
            "Magnesium                       0\n",
            "Total_phenols                   0\n",
            "Flavanoids                      0\n",
            "Nonflavanoid_phenols            0\n",
            "Proanthocyanins                 0\n",
            "Color_intensity                 0\n",
            "Hue                             0\n",
            "0D280_0D315_of_diluted_wines    0\n",
            "Proline                         0\n",
            "dtype: int64\n"
          ]
        }
      ],
      "source": [
        "# TO DO: ADD YOUR CODE HERE\n",
        "print(X.isnull().sum())"
      ]
    },
    {
      "cell_type": "markdown",
      "id": "070956af",
      "metadata": {
        "id": "070956af"
      },
      "source": [
        "How many samples do we have of each type of wine?"
      ]
    },
    {
      "cell_type": "code",
      "execution_count": null,
      "id": "b37a6fd9",
      "metadata": {
        "id": "b37a6fd9",
        "outputId": "e8ca9fc2-c9a8-47a0-b943-7447e430cfe5"
      },
      "outputs": [
        {
          "data": {
            "text/plain": [
              "class\n",
              "2    71\n",
              "1    59\n",
              "3    48\n",
              "Name: count, dtype: int64"
            ]
          },
          "execution_count": 9,
          "metadata": {},
          "output_type": "execute_result"
        }
      ],
      "source": [
        "# TO DO: ADD YOUR CODE HERE\n",
        "y.value_counts()\n"
      ]
    },
    {
      "cell_type": "markdown",
      "id": "70e6c46f",
      "metadata": {
        "id": "70e6c46f"
      },
      "source": [
        "### Step 3: Implement Machine Learning Model\n",
        "\n",
        "1. Import `SVC` and `DecisionTreeClassifier` from sklearn\n",
        "2. Instantiate models as `SVC()` and `DecisionTreeClassifier(max_depth = 3)`\n",
        "3. Implement the machine learning model with `X` and `y`"
      ]
    },
    {
      "cell_type": "markdown",
      "id": "0870b0d2",
      "metadata": {
        "id": "0870b0d2"
      },
      "source": [
        "### Step 4: Validate Model\n",
        "\n",
        "Calculate the average training and validation accuracy using `cross_validate` for the two different models listed in Step 3. For this case, use `scoring='accuracy'`"
      ]
    },
    {
      "cell_type": "markdown",
      "id": "bb0bbd83",
      "metadata": {
        "id": "bb0bbd83"
      },
      "source": [
        "### Step 5: Visualize Results (4 marks)\n",
        "\n",
        "#### Step 5.1: Compare Models\n",
        "1. Create a pandas DataFrame `results` with columns: Training accuracy and Validation accuracy\n",
        "2. Add the data size, training and validation accuracy for each dataset to the `results` DataFrame\n",
        "3. Print `results`"
      ]
    },
    {
      "cell_type": "code",
      "execution_count": null,
      "id": "f109ff55",
      "metadata": {
        "id": "f109ff55"
      },
      "outputs": [],
      "source": []
    },
    {
      "cell_type": "code",
      "execution_count": null,
      "id": "be4b5c0a",
      "metadata": {
        "id": "be4b5c0a",
        "outputId": "5c026eca-880c-4242-da92-c841fdecc81e"
      },
      "outputs": [
        {
          "data": {
            "text/html": [
              "<div>\n",
              "<style scoped>\n",
              "    .dataframe tbody tr th:only-of-type {\n",
              "        vertical-align: middle;\n",
              "    }\n",
              "\n",
              "    .dataframe tbody tr th {\n",
              "        vertical-align: top;\n",
              "    }\n",
              "\n",
              "    .dataframe thead th {\n",
              "        text-align: right;\n",
              "    }\n",
              "</style>\n",
              "<table border=\"1\" class=\"dataframe\">\n",
              "  <thead>\n",
              "    <tr style=\"text-align: right;\">\n",
              "      <th></th>\n",
              "      <th>training_score</th>\n",
              "      <th>validation_score</th>\n",
              "    </tr>\n",
              "  </thead>\n",
              "  <tbody>\n",
              "    <tr>\n",
              "      <th>DecisionTreeClassifier(max_depth=3, random_state=0)</th>\n",
              "      <td>0.994357</td>\n",
              "      <td>0.894017</td>\n",
              "    </tr>\n",
              "    <tr>\n",
              "      <th>SVC()</th>\n",
              "      <td>0.680427</td>\n",
              "      <td>0.676638</td>\n",
              "    </tr>\n",
              "  </tbody>\n",
              "</table>\n",
              "</div>"
            ],
            "text/plain": [
              "                                                    training_score  \\\n",
              "DecisionTreeClassifier(max_depth=3, random_stat...        0.994357   \n",
              "SVC()                                                     0.680427   \n",
              "\n",
              "                                                    validation_score  \n",
              "DecisionTreeClassifier(max_depth=3, random_stat...          0.894017  \n",
              "SVC()                                                       0.676638  "
            ]
          },
          "execution_count": 18,
          "metadata": {},
          "output_type": "execute_result"
        }
      ],
      "source": [
        "# TO DO: ADD YOUR CODE HERE FOR STEPS 3-5\n",
        "# Note: for any random state parameters, you can use random_state = 0\n",
        "# HINT: USING A LOOP TO STORE THE DATA IN YOUR RESULTS DATAFRAME WILL BE MORE EFFICIENT\n",
        "from sklearn.model_selection import train_test_split, cross_validate\n",
        "from sklearn.tree import DecisionTreeClassifier\n",
        "from sklearn.svm import SVC\n",
        "\n",
        "X_train, X_test, y_train, y_test = train_test_split(\n",
        "    X,y,  random_state=0)\n",
        "\n",
        "tree = DecisionTreeClassifier(max_depth=3,random_state=0)\n",
        "tree.fit(X_train, y_train)\n",
        "\n",
        "svc = SVC()\n",
        "svc.fit(X_train, y_train)\n",
        "\n",
        "result={'training_score':{},'validation_score':{}}\n",
        "datasets=[ (X_train, y_train, tree),(X_train, y_train, svc)]\n",
        "\n",
        "for X_data, y_data, model in datasets:\n",
        "    scores = cross_validate(model, X_data, y_data, cv=5,\n",
        "                        scoring='accuracy',\n",
        "                       return_train_score=True)\n",
        "    train_score=scores['train_score'].mean()\n",
        "    test_score=scores['test_score'].mean()\n",
        "    result['training_score'][str(model)]=train_score\n",
        "    result['validation_score'][str(model)]=test_score\n",
        "\n",
        "results=pd.DataFrame(data=result)\n",
        "results.head()\n"
      ]
    },
    {
      "cell_type": "markdown",
      "id": "f2e17878",
      "metadata": {
        "id": "f2e17878"
      },
      "source": [
        "#### Step 5.2: Visualize Classification Errors\n",
        "Which method gave the highest accuracy? Use this method to print the confusion matrix and classification report:"
      ]
    },
    {
      "cell_type": "code",
      "execution_count": null,
      "id": "44b091a4",
      "metadata": {
        "id": "44b091a4"
      },
      "outputs": [],
      "source": [
        "# TO DO: Implement best model\n",
        "# DecisionTreeClassifier was the best model\n",
        "from sklearn.metrics import accuracy_score, classification_report, confusion_matrix\n",
        "\n",
        "y_pred_dt = tree.predict(X_test)\n",
        "cm = confusion_matrix(y_test, y_pred_dt)\n"
      ]
    },
    {
      "cell_type": "code",
      "execution_count": null,
      "id": "09d21b59",
      "metadata": {
        "id": "09d21b59",
        "outputId": "392dc1a2-f6da-480e-e283-f22228876439"
      },
      "outputs": [
        {
          "data": {
            "image/png": "[encoded data removed]",
            "text/plain": [
              "<Figure size 1000x700 with 2 Axes>"
            ]
          },
          "metadata": {},
          "output_type": "display_data"
        }
      ],
      "source": [
        "# TO DO: Print confusion matrix using a heatmap\n",
        "fig, ax = plt.subplots(1, figsize=(10, 7))\n",
        "sns.heatmap(cm, annot=True, cmap='coolwarm')\n",
        "ax.set_xlabel('Predicted')\n",
        "ax.set_ylabel('Actual')\n",
        "ax.set_title('DecisionTreeClassifier')\n",
        "plt.show()"
      ]
    },
    {
      "cell_type": "code",
      "execution_count": null,
      "id": "5ef95947",
      "metadata": {
        "id": "5ef95947",
        "outputId": "792ed0c4-af01-4c57-f64f-c389e2172e69"
      },
      "outputs": [
        {
          "name": "stdout",
          "output_type": "stream",
          "text": [
            "Accuracy: 0.9333333333333333\n",
            "Classification Report:\n",
            "               precision    recall  f1-score   support\n",
            "\n",
            "           1       1.00      0.88      0.93        16\n",
            "           2       0.91      0.95      0.93        21\n",
            "           3       0.89      1.00      0.94         8\n",
            "\n",
            "    accuracy                           0.93        45\n",
            "   macro avg       0.93      0.94      0.93        45\n",
            "weighted avg       0.94      0.93      0.93        45\n",
            "\n",
            "Confusion Matrix:\n",
            " [[14  2  0]\n",
            " [ 0 20  1]\n",
            " [ 0  0  8]]\n"
          ]
        }
      ],
      "source": [
        "# TO DO: Print classification report\n",
        "acc = accuracy_score(y_test, y_pred_dt)\n",
        "classification_repo = classification_report(y_test, y_pred_dt)\n",
        "cm = confusion_matrix(y_test, y_pred_dt)\n",
        "\n",
        "\n",
        "print(\"Accuracy:\", acc)\n",
        "print(\"Classification Report:\\n\", classification_repo)\n",
        "print(\"Confusion Matrix:\\n\", cm)"
      ]
    },
    {
      "cell_type": "markdown",
      "id": "bf319621",
      "metadata": {
        "id": "bf319621"
      },
      "source": [
        "### Questions (6 marks)\n",
        "1. How do the training and validation accuracy change depending on the method used? Explain with values.\n",
        "1. What are two reasons why the support vector machines model did not work as well as the tree-based model?\n",
        "1. How many samples were incorrectly classified in step 5.2?\n",
        "1. In this case, is maximizing precision or recall more important? Why?\n",
        "\n",
        "*YOUR ANSWERS HERE*"
      ]
    },
    {
      "cell_type": "markdown",
      "id": "4f5693e7",
      "metadata": {
        "id": "4f5693e7"
      },
      "source": [
        "1. DTC had a training score of 0.99, and a validation score of 0.89. SVC had a scores of 0.68 and 0.68 for traning anc validation scores respectively. DTC did much better than the svc model.\n",
        "\n",
        "2. one of the reasons is because the default kernel is used. When the kernel is set to linear, validation score for SVC is  0.96, which is better than the DTC model.\n",
        "\n",
        "The second reason is that the data was not preprocessed, and the parameters were not tuned.\n",
        "\n",
        "3. Only 3 samples were incorrectly categorized using the DTC model.\n",
        "\n",
        "4. It depends on what the model is being used for. If the model is being used to classify wine samples into these 3 classes for quality purposes, maximizing precision would be better to decrease false positives. If the goal is to maximize profits, then recall should be improved to ensure all positives are captured.\n",
        "\n"
      ]
    },
    {
      "cell_type": "markdown",
      "id": "664ff8ae",
      "metadata": {
        "id": "664ff8ae"
      },
      "source": [
        "### Process Description (4 marks)\n",
        "Please describe the process you used to create your code. Cite any websites or generative AI tools used. You can use the following questions as guidance:\n",
        "1. Where did you source your code?\n",
        "1. In what order did you complete the steps?\n",
        "1. If you used generative AI, what prompts did you use? Did you need to modify the code at all? Why or why not?\n",
        "1. Did you have any challenges? If yes, what were they? If not, what helped you to be successful?"
      ]
    },
    {
      "cell_type": "markdown",
      "id": "d0e837da",
      "metadata": {
        "id": "d0e837da"
      },
      "source": [
        "*DESCRIBE YOUR PROCESS HERE*"
      ]
    },
    {
      "cell_type": "markdown",
      "id": "0b4a4e8a",
      "metadata": {
        "id": "0b4a4e8a"
      },
      "source": [
        "1. I used the example codes provided from lectures, and the lab solutions to complete this assignment.\n",
        "2. I completely the steps in order, and had to revisit a few steps to make corrects.\n",
        "3. I read in the slides that it is possible to change the kernel to improve accuracy, so I asked AI:\n",
        "\"is this linear from sklearn.svm import SVC\"\n",
        "It told me to use: svc_linear = SVC(kernel='linear'). I tried it and got a validation score of 0.96.\n",
        "4. I used the pip install method for the data as mentioned on the data website, and I kept getting an error for my target variable y which suggested I should use the .ravel() function. It did not work so I looked the error up, and realized it was because y was a pd.dataframe and not pd.series.\n",
        "The source used to fix error: https://stackoverflow.com/questions/34165731/a-column-vector-y-was-passed-when-a-1d-array-was-expected\n",
        "\n"
      ]
    },
    {
      "cell_type": "markdown",
      "id": "4cd7358d",
      "metadata": {
        "id": "4cd7358d"
      },
      "source": [
        "## Part 3: Observations/Interpretation (3 marks)\n",
        "\n",
        "Describe any pattern you see in the results. Relate your findings to what we discussed during lectures. Include data to justify your findings.\n",
        "\n",
        "\n",
        "*ADD YOUR FINDINGS HERE*"
      ]
    },
    {
      "cell_type": "markdown",
      "id": "9db8738b",
      "metadata": {
        "id": "9db8738b"
      },
      "source": [
        "For part 1, it says that DT, and GB dont seem to perform well when the parameters are not tuned properly in the slides, which seems to be the case. It also says that the RF model does not fit well to sparse data and the data contains many 0's.\n",
        "\n",
        "In the slides, it says that decision trees work well when you have features on a completely different scale, which for this data the features are. They seem to overfit easily which can be seen by slight adjustment of the max_depth to 5, which results in training score to increase to 1, and the validation score does not change. The doenside of the SVC discussed in the lecture slides is, that they require preprocessing of data and careful choice of the parameters. This can be seen from the substantial increase in the validation score from 0.68 to 0.96 just by changing the kernal from default to linear."
      ]
    },
    {
      "cell_type": "markdown",
      "id": "cd97b6ac",
      "metadata": {
        "id": "cd97b6ac"
      },
      "source": [
        "## Part 4: Reflection (2 marks)\n",
        "Include a sentence or two about:\n",
        "- what you liked or disliked,\n",
        "- found interesting, confusing, challangeing, motivating\n",
        "while working on this assignment.\n",
        "\n",
        "\n",
        "*ADD YOUR THOUGHTS HERE*"
      ]
    },
    {
      "cell_type": "markdown",
      "id": "30f933b6",
      "metadata": {
        "id": "30f933b6"
      },
      "source": [
        "I disliked the results I got for part 1, the validation scores for the trees are very low. I found it interested how well the SVC model fit the data when kernel was set to linear."
      ]
    },
    {
      "cell_type": "markdown",
      "id": "fa21e53b",
      "metadata": {
        "id": "fa21e53b"
      },
      "source": [
        "## Part 5: Bonus Question (3 marks)\n",
        "\n",
        "Repeat Part 2 and compare the support vector machines model used to `LinearSVC(max_iter=5000)`. Does using `LinearSVC` improve the results? Why or why not?\n",
        "\n",
        "Is `LinearSVC` a good fit for this dataset? Why or why not?"
      ]
    },
    {
      "cell_type": "code",
      "execution_count": null,
      "id": "30fea72e",
      "metadata": {
        "id": "30fea72e",
        "outputId": "c5bbe722-ffa3-4d8e-b415-9eba7e7b67ca"
      },
      "outputs": [
        {
          "name": "stdout",
          "output_type": "stream",
          "text": [
            "Training Score: 0.9924704637630046\n",
            "Testing Score: 0.9772079772079773\n"
          ]
        }
      ],
      "source": [
        "# TO DO: ADD YOUR CODE HERE\n",
        "from sklearn.svm import LinearSVC\n",
        "lin_svc = LinearSVC(max_iter=5000,dual='auto')\n",
        "lin_svc.fit(X_train, y_train)\n",
        "scores = cross_validate(lin_svc, X_train, y_train, cv=5,\n",
        "                        scoring='accuracy',\n",
        "                       return_train_score=True)\n",
        "print(\"Training Score:\", scores['train_score'].mean())\n",
        "print(\"Testing Score:\", scores['test_score'].mean())\n"
      ]
    },
    {
      "cell_type": "markdown",
      "id": "aabc68a4",
      "metadata": {
        "id": "aabc68a4"
      },
      "source": [
        "*ANSWER HERE*"
      ]
    },
    {
      "cell_type": "markdown",
      "id": "427dc538",
      "metadata": {
        "id": "427dc538"
      },
      "source": [
        "LinearSVC is an execellent fit for this data since the test score is high, and the difference between test and training scores is not much."
      ]
    }
  ],
  "metadata": {
    "kernelspec": {
      "display_name": "Python 3 (ipykernel)",
      "language": "python",
      "name": "python3"
    },
    "language_info": {
      "codemirror_mode": {
        "name": "ipython",
        "version": 3
      },
      "file_extension": ".py",
      "mimetype": "text/x-python",
      "name": "python",
      "nbconvert_exporter": "python",
      "pygments_lexer": "ipython3",
      "version": "3.11.5"
    },
    "colab": {
      "provenance": [],
      "include_colab_link": true
    }
  },
  "nbformat": 4,
  "nbformat_minor": 5
}